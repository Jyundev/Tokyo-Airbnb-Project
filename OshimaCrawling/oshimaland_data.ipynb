{
 "cells": [
  {
   "attachments": {},
   "cell_type": "markdown",
   "metadata": {},
   "source": [
    "### 도쿄 부동산 사건 데이터 수집 \n",
    "출처 :  <a href = 'http://www.oshimaland.co.jp'> 오시마랜드 </a>\n",
    "\n",
    "사이트 정보 : 본 웹사이트는 자살사건, 시체유기사건, 살인사건 등 과거에 불미스러운 사건이 있었던 건물을 모아서 보여줍니다.\n"
   ]
  },
  {
   "cell_type": "code",
   "execution_count": 1,
   "metadata": {},
   "outputs": [],
   "source": [
    "import pandas as pd\n",
    "import numpy as np \n",
    "\n",
    "from selenium import webdriver\n",
    "from selenium.webdriver.chrome.service import Service\n",
    "from webdriver_manager.chrome import ChromeDriverManager\n",
    "from selenium.webdriver.common.by import By\n",
    "from selenium.webdriver.common.keys import Keys\n",
    "from selenium.webdriver.support.ui import WebDriverWait\n",
    "from selenium.webdriver.support import expected_conditions as EC\n",
    "from bs4 import BeautifulSoup\n",
    "\n",
    "import time"
   ]
  },
  {
   "cell_type": "markdown",
   "metadata": {},
   "source": [
    "## 에어비앤비 주요 지역 탐색 "
   ]
  },
  {
   "cell_type": "markdown",
   "metadata": {},
   "source": [
    "### Inside AIrbne 주요 지역 기준 오시마랜드 데이터 수집 \n",
    "\n",
    "InsideAirbnb의 geojosn 위치정보 파일 사용"
   ]
  },
  {
   "cell_type": "code",
   "execution_count": 2,
   "metadata": {},
   "outputs": [],
   "source": [
    "import json\n",
    "import pandas as pd"
   ]
  },
  {
   "cell_type": "code",
   "execution_count": 6,
   "metadata": {},
   "outputs": [],
   "source": [
    "geo_df = pd.read_json('data/japan.geojson') # pd.read_json 이용\n",
    "# listing_data = pd.read_csv('../../Tokyo_Airbnb/data/listings.csv.gz', compression='gzip', header=0, sep=',', quotechar='\"')\n"
   ]
  },
  {
   "cell_type": "code",
   "execution_count": 33,
   "metadata": {},
   "outputs": [
    {
     "name": "stdout",
     "output_type": "stream",
     "text": [
      "8500\n"
     ]
    }
   ],
   "source": [
    "features = geo_df['features'][:15]\n",
    "\n",
    "geo_dict = {}\n",
    "for feature in features:\n",
    "    region = feature['properties']['nam']\n",
    "    coordinates = feature[\"geometry\"]['coordinates'][0][0]\n",
    "    for idx, lat_lng in enumerate(coordinates):\n",
    "        geo_dict[f'{region}_{idx}'] = lat_lng\n",
    "\n",
    "print(len(geo_dict))"
   ]
  },
  {
   "cell_type": "markdown",
   "metadata": {},
   "source": [
    "#### Osaka Station"
   ]
  },
  {
   "cell_type": "code",
   "execution_count": 61,
   "metadata": {},
   "outputs": [
    {
     "data": {
      "text/html": [
       "<div>\n",
       "<style scoped>\n",
       "    .dataframe tbody tr th:only-of-type {\n",
       "        vertical-align: middle;\n",
       "    }\n",
       "\n",
       "    .dataframe tbody tr th {\n",
       "        vertical-align: top;\n",
       "    }\n",
       "\n",
       "    .dataframe thead th {\n",
       "        text-align: right;\n",
       "    }\n",
       "</style>\n",
       "<table border=\"1\" class=\"dataframe\">\n",
       "  <thead>\n",
       "    <tr style=\"text-align: right;\">\n",
       "      <th></th>\n",
       "      <th>Ｓｔａｔｉｏｎ</th>\n",
       "    </tr>\n",
       "  </thead>\n",
       "  <tbody>\n",
       "    <tr>\n",
       "      <th>0</th>\n",
       "      <td>Higashimikuni</td>\n",
       "    </tr>\n",
       "    <tr>\n",
       "      <th>1</th>\n",
       "      <td>Shin-Osaka</td>\n",
       "    </tr>\n",
       "    <tr>\n",
       "      <th>2</th>\n",
       "      <td>Nishinakajima-Minamigata</td>\n",
       "    </tr>\n",
       "    <tr>\n",
       "      <th>3</th>\n",
       "      <td>Nakatsu</td>\n",
       "    </tr>\n",
       "    <tr>\n",
       "      <th>4</th>\n",
       "      <td>Umeda</td>\n",
       "    </tr>\n",
       "    <tr>\n",
       "      <th>...</th>\n",
       "      <td>...</td>\n",
       "    </tr>\n",
       "    <tr>\n",
       "      <th>119</th>\n",
       "      <td>Ferry Terminal</td>\n",
       "    </tr>\n",
       "    <tr>\n",
       "      <th>120</th>\n",
       "      <td>Nanko-higashi</td>\n",
       "    </tr>\n",
       "    <tr>\n",
       "      <th>121</th>\n",
       "      <td>Nanko-guchi</td>\n",
       "    </tr>\n",
       "    <tr>\n",
       "      <th>122</th>\n",
       "      <td>Hirabayashi</td>\n",
       "    </tr>\n",
       "    <tr>\n",
       "      <th>123</th>\n",
       "      <td>Suminoekoen</td>\n",
       "    </tr>\n",
       "  </tbody>\n",
       "</table>\n",
       "<p>124 rows × 1 columns</p>\n",
       "</div>"
      ],
      "text/plain": [
       "                      Ｓｔａｔｉｏｎ\n",
       "0               Higashimikuni\n",
       "1                  Shin-Osaka\n",
       "2    Nishinakajima-Minamigata\n",
       "3                     Nakatsu\n",
       "4                       Umeda\n",
       "..                        ...\n",
       "119            Ferry Terminal\n",
       "120             Nanko-higashi\n",
       "121               Nanko-guchi\n",
       "122               Hirabayashi\n",
       "123               Suminoekoen\n",
       "\n",
       "[124 rows x 1 columns]"
      ]
     },
     "execution_count": 61,
     "metadata": {},
     "output_type": "execute_result"
    }
   ],
   "source": [
    "osaka_station = pd.read_csv('data/osaka_station.csv')\n",
    "osaka_station"
   ]
  },
  {
   "cell_type": "markdown",
   "metadata": {},
   "source": [
    "## 크롤링 \n",
    "- 크롤링 메서드 생성 "
   ]
  },
  {
   "cell_type": "markdown",
   "metadata": {},
   "source": [
    "####  1. oshimaland 웹사이트 불러오기\n"
   ]
  },
  {
   "cell_type": "code",
   "execution_count": 89,
   "metadata": {},
   "outputs": [],
   "source": [
    "def loadWeb(driver, url):\n",
    "    # header 추가하기 \n",
    "\n",
    "    \n",
    "    # 화면 최대 크기 설정 \n",
    "    driver.get(url)\n",
    "    driver.maximize_window()\n",
    "    #모든 창이 로딩 될떄까지 기다려 줌 \n",
    "    time.sleep(3)\n",
    "    #팝업창 화면 전환 후 닫아주기\n",
    "    multi_window = driver.window_handles\n",
    "    if(len(multi_window)>1):\n",
    "        driver.switch_to.window(driver.window_handles[-1])\n",
    "        driver.close()\n",
    "        time.sleep(3)\n",
    "        # 접근 페이지 다시 요청\n",
    "        driver.switch_to.window(driver.window_handles[-1])\n",
    "        driver.get(url)\n",
    "    \n",
    "    # 전체 지도 축소 \n",
    "    driver.execute_script(\"document.body.style.zoom='60%'\")    \n",
    "    # time.sleep(2)\n",
    "\n",
    "\n"
   ]
  },
  {
   "cell_type": "markdown",
   "metadata": {},
   "source": [
    "#### 2. 부동산 관련 사건 정보 수집"
   ]
  },
  {
   "cell_type": "code",
   "execution_count": 90,
   "metadata": {},
   "outputs": [],
   "source": [
    "from selenium.webdriver.common.action_chains import ActionChains\n",
    "\n",
    "from selenium.common.exceptions import NoSuchElementException, NoSuchWindowException, MoveTargetOutOfBoundsException, StaleElementReferenceException, WebDriverException\n",
    "\n",
    "def get_fire(driver, tokyo_data_dict, district):\n",
    "        #전체 창 \n",
    "        \n",
    "        map =  driver.find_element(By.CSS_SELECTOR, '#map-canvas > div.mk-map-view.mk-disable-all-gestures > div')\n",
    "        # fire 객체 수집 \n",
    "        fire_object_list = driver.find_element(By.CSS_SELECTOR, '#map-canvas > div.mk-map-view.mk-disable-all-gestures > div > div.mk-annotation-container')\n",
    "        fire_list = []\n",
    "        fire_list = fire_object_list.find_elements(By.CSS_SELECTOR, '.map-fire')\n",
    "        original_window_handle = driver.current_window_handle  # 원래 창의 핸들을 저장\n",
    "\n",
    "\n",
    "        print('fire 개수: ', len(fire_list))\n",
    "        if len(fire_list) != 0 :\n",
    "            for fire in fire_list:\n",
    "                try: \n",
    "                    is_enabled = fire.is_enabled()\n",
    "                    actions = ActionChains(driver)                 \n",
    "                    if is_enabled:\n",
    "                        # 클릭이 가능하며 현재 화면에 표시 될 때 클릭 수행\n",
    "                        # print('click OK')\n",
    "                        if fire.is_displayed():\n",
    "                    \n",
    "                            actions = ActionChains(driver)                 \n",
    "                            actions.move_to_element(fire).click().perform()\n",
    "\n",
    "                            # time.sleep(5)\n",
    "                            WebDriverWait(driver, 7).until(EC.presence_of_element_located((By.CSS_SELECTOR, 'li.property-info-date > span')))\n",
    "                            info_date = driver.find_element(By.CSS_SELECTOR, 'li.property-info-date > span').text\n",
    "                            info_address = driver.find_element(By.CSS_SELECTOR, 'li.property-info-address').text\n",
    "                            info_content = driver.find_element(By.CSS_SELECTOR, 'div.popup-property-info > section > ul > li:nth-child(3)').text\n",
    "\n",
    "                            tokyo_data_dict.append({\n",
    "                                'district': district,\n",
    "                                'date': info_date,\n",
    "                                'address': info_address,\n",
    "                                'content': info_content\n",
    "                            })\n",
    "\n",
    "                            time.sleep(3)\n",
    "                                    # 새로운 탭이 열렸는지 확인하고, 열린 경우 원래 창으로 다시 돌아옵니다.\n",
    "                            if len(driver.window_handles) > 1:\n",
    "                                driver.switch_to.window(original_window_handle)\n",
    "                        else:\n",
    "                            pass\n",
    "                            # print('display NOT')\n",
    "                    else:\n",
    "                        pass\n",
    "                        # print('click not')\n",
    "\n",
    "                except (NoSuchElementException, NoSuchWindowException, MoveTargetOutOfBoundsException, StaleElementReferenceException, WebDriverException) as e:\n",
    "                    # 에러 처리\n",
    "                    print(f\"Error occurred: {e}\")\n",
    "                    map.send_keys(Keys.ENTER)\n",
    "\n",
    "                    \n",
    "\n",
    "                # 필요한 경우 WebDriver 인스턴스 재초기화 등의 작업 수행\n",
    "                # driver = initialize_driver()\n",
    "\n",
    "                continue\n"
   ]
  },
  {
   "cell_type": "markdown",
   "metadata": {},
   "source": [
    "#### 3. 장소 검색 후 수집"
   ]
  },
  {
   "cell_type": "code",
   "execution_count": 91,
   "metadata": {},
   "outputs": [],
   "source": [
    "def search_fire_coordinate(driver, geo_dict = None):\n",
    "    tokyo_data_dict = []\n",
    "    # 주요 지역 위도 경도 검색 \n",
    "    # for key, value in tqdm(geo_dict.items()): # geojson\n",
    "    for value in osaka_station['Ｓｔａｔｉｏｎ'].values: # geojson\n",
    "        region_search_tab = driver.find_element(By.CSS_SELECTOR, '#geocoder-text')\n",
    "        region_search_tab.clear()  # 검색어 clear\n",
    "        # lng = value[1]\n",
    "        # lat = value[0]\n",
    "        # #경도 위도 검색\n",
    "        # search  = f'{lng} {lat}'\n",
    "        search = value\n",
    "        region_search_tab.send_keys(search)\n",
    "        time.sleep(2)\n",
    "        # 검색 버튼 클릭 \n",
    "        search_btn = driver.find_element(By.CSS_SELECTOR, \"#geocoder-button\")\n",
    "        search_btn.send_keys(Keys.ENTER)\n",
    "        # ElementClickInterceptedException: Message: element click intercepted: Element is not clickable at point (751, 3641)\n",
    "        time.sleep(8)\n",
    "        # fire 객체 정보 수집 \n",
    "        get_fire(driver,tokyo_data_dict, search)\n",
    "\n"
   ]
  },
  {
   "cell_type": "markdown",
   "metadata": {},
   "source": [
    "### 크롤링 "
   ]
  },
  {
   "cell_type": "code",
   "execution_count": 92,
   "metadata": {
    "scrolled": true
   },
   "outputs": [
    {
     "name": "stdout",
     "output_type": "stream",
     "text": [
      "fire 개수:  41\n",
      "Error occurred: Message: \n",
      "Stacktrace:\n",
      "RemoteError@chrome://remote/content/shared/RemoteError.sys.mjs:8:8\n",
      "WebDriverError@chrome://remote/content/shared/webdriver/Errors.sys.mjs:191:5\n",
      "NoSuchElementError@chrome://remote/content/shared/webdriver/Errors.sys.mjs:509:5\n",
      "dom.find/</<@chrome://remote/content/shared/DOM.sys.mjs:136:16\n",
      "\n"
     ]
    },
    {
     "ename": "ElementNotInteractableException",
     "evalue": "Message: Element <div class=\"mk-map-node-element\"> is not reachable by keyboard\nStacktrace:\nRemoteError@chrome://remote/content/shared/RemoteError.sys.mjs:8:8\nWebDriverError@chrome://remote/content/shared/webdriver/Errors.sys.mjs:191:5\nElementNotInteractableError@chrome://remote/content/shared/webdriver/Errors.sys.mjs:351:5\nwebdriverSendKeysToElement@chrome://remote/content/marionette/interaction.sys.mjs:668:13\ninteraction.sendKeysToElement@chrome://remote/content/marionette/interaction.sys.mjs:642:11\nsendKeysToElement@chrome://remote/content/marionette/actors/MarionetteCommandsChild.sys.mjs:535:29\nreceiveMessage@chrome://remote/content/marionette/actors/MarionetteCommandsChild.sys.mjs:150:31\n",
     "output_type": "error",
     "traceback": [
      "\u001b[1;31m---------------------------------------------------------------------------\u001b[0m",
      "\u001b[1;31mTimeoutException\u001b[0m                          Traceback (most recent call last)",
      "Cell \u001b[1;32mIn[90], line 31\u001b[0m, in \u001b[0;36mget_fire\u001b[1;34m(driver, tokyo_data_dict, district)\u001b[0m\n\u001b[0;32m     30\u001b[0m \u001b[38;5;66;03m# time.sleep(5)\u001b[39;00m\n\u001b[1;32m---> 31\u001b[0m \u001b[43mWebDriverWait\u001b[49m\u001b[43m(\u001b[49m\u001b[43mdriver\u001b[49m\u001b[43m,\u001b[49m\u001b[43m \u001b[49m\u001b[38;5;241;43m7\u001b[39;49m\u001b[43m)\u001b[49m\u001b[38;5;241;43m.\u001b[39;49m\u001b[43muntil\u001b[49m\u001b[43m(\u001b[49m\u001b[43mEC\u001b[49m\u001b[38;5;241;43m.\u001b[39;49m\u001b[43mpresence_of_element_located\u001b[49m\u001b[43m(\u001b[49m\u001b[43m(\u001b[49m\u001b[43mBy\u001b[49m\u001b[38;5;241;43m.\u001b[39;49m\u001b[43mCSS_SELECTOR\u001b[49m\u001b[43m,\u001b[49m\u001b[43m \u001b[49m\u001b[38;5;124;43m'\u001b[39;49m\u001b[38;5;124;43mli.property-info-date > span\u001b[39;49m\u001b[38;5;124;43m'\u001b[39;49m\u001b[43m)\u001b[49m\u001b[43m)\u001b[49m\u001b[43m)\u001b[49m\n\u001b[0;32m     32\u001b[0m info_date \u001b[38;5;241m=\u001b[39m driver\u001b[38;5;241m.\u001b[39mfind_element(By\u001b[38;5;241m.\u001b[39mCSS_SELECTOR, \u001b[38;5;124m'\u001b[39m\u001b[38;5;124mli.property-info-date > span\u001b[39m\u001b[38;5;124m'\u001b[39m)\u001b[38;5;241m.\u001b[39mtext\n",
      "File \u001b[1;32mc:\\Users\\jyunx\\anaconda3\\envs\\yun_v310\\lib\\site-packages\\selenium\\webdriver\\support\\wait.py:105\u001b[0m, in \u001b[0;36mWebDriverWait.until\u001b[1;34m(self, method, message)\u001b[0m\n\u001b[0;32m    104\u001b[0m         \u001b[38;5;28;01mbreak\u001b[39;00m\n\u001b[1;32m--> 105\u001b[0m \u001b[38;5;28;01mraise\u001b[39;00m TimeoutException(message, screen, stacktrace)\n",
      "\u001b[1;31mTimeoutException\u001b[0m: Message: \nStacktrace:\nRemoteError@chrome://remote/content/shared/RemoteError.sys.mjs:8:8\nWebDriverError@chrome://remote/content/shared/webdriver/Errors.sys.mjs:191:5\nNoSuchElementError@chrome://remote/content/shared/webdriver/Errors.sys.mjs:509:5\ndom.find/</<@chrome://remote/content/shared/DOM.sys.mjs:136:16\n",
      "\nDuring handling of the above exception, another exception occurred:\n",
      "\u001b[1;31mElementNotInteractableException\u001b[0m           Traceback (most recent call last)",
      "Cell \u001b[1;32mIn[92], line 8\u001b[0m\n\u001b[0;32m      5\u001b[0m loadWeb(driver, url)\n\u001b[0;32m      7\u001b[0m \u001b[38;5;66;03m# 지도를 60% 정도로 축소 뒤 수집 \u001b[39;00m\n\u001b[1;32m----> 8\u001b[0m \u001b[43msearch_fire_coordinate\u001b[49m\u001b[43m(\u001b[49m\u001b[43mdriver\u001b[49m\u001b[43m)\u001b[49m\n",
      "Cell \u001b[1;32mIn[91], line 21\u001b[0m, in \u001b[0;36msearch_fire_coordinate\u001b[1;34m(driver, geo_dict)\u001b[0m\n\u001b[0;32m     19\u001b[0m time\u001b[38;5;241m.\u001b[39msleep(\u001b[38;5;241m8\u001b[39m)\n\u001b[0;32m     20\u001b[0m \u001b[38;5;66;03m# fire 객체 정보 수집 \u001b[39;00m\n\u001b[1;32m---> 21\u001b[0m \u001b[43mget_fire\u001b[49m\u001b[43m(\u001b[49m\u001b[43mdriver\u001b[49m\u001b[43m,\u001b[49m\u001b[43mtokyo_data_dict\u001b[49m\u001b[43m,\u001b[49m\u001b[43m \u001b[49m\u001b[43msearch\u001b[49m\u001b[43m)\u001b[49m\n",
      "Cell \u001b[1;32mIn[90], line 57\u001b[0m, in \u001b[0;36mget_fire\u001b[1;34m(driver, tokyo_data_dict, district)\u001b[0m\n\u001b[0;32m     54\u001b[0m \u001b[38;5;28;01mexcept\u001b[39;00m (NoSuchElementException, NoSuchWindowException, MoveTargetOutOfBoundsException, StaleElementReferenceException, WebDriverException) \u001b[38;5;28;01mas\u001b[39;00m e:\n\u001b[0;32m     55\u001b[0m     \u001b[38;5;66;03m# 에러 처리\u001b[39;00m\n\u001b[0;32m     56\u001b[0m     \u001b[38;5;28mprint\u001b[39m(\u001b[38;5;124mf\u001b[39m\u001b[38;5;124m\"\u001b[39m\u001b[38;5;124mError occurred: \u001b[39m\u001b[38;5;132;01m{\u001b[39;00me\u001b[38;5;132;01m}\u001b[39;00m\u001b[38;5;124m\"\u001b[39m)\n\u001b[1;32m---> 57\u001b[0m     \u001b[38;5;28;43mmap\u001b[39;49m\u001b[38;5;241;43m.\u001b[39;49m\u001b[43msend_keys\u001b[49m\u001b[43m(\u001b[49m\u001b[43mKeys\u001b[49m\u001b[38;5;241;43m.\u001b[39;49m\u001b[43mENTER\u001b[49m\u001b[43m)\u001b[49m\n\u001b[0;32m     61\u001b[0m \u001b[38;5;66;03m# 필요한 경우 WebDriver 인스턴스 재초기화 등의 작업 수행\u001b[39;00m\n\u001b[0;32m     62\u001b[0m \u001b[38;5;66;03m# driver = initialize_driver()\u001b[39;00m\n\u001b[0;32m     64\u001b[0m \u001b[38;5;28;01mcontinue\u001b[39;00m\n",
      "File \u001b[1;32mc:\\Users\\jyunx\\anaconda3\\envs\\yun_v310\\lib\\site-packages\\selenium\\webdriver\\remote\\webelement.py:231\u001b[0m, in \u001b[0;36mWebElement.send_keys\u001b[1;34m(self, *value)\u001b[0m\n\u001b[0;32m    228\u001b[0m             remote_files\u001b[38;5;241m.\u001b[39mappend(\u001b[38;5;28mself\u001b[39m\u001b[38;5;241m.\u001b[39m_upload(file))\n\u001b[0;32m    229\u001b[0m         value \u001b[38;5;241m=\u001b[39m \u001b[38;5;124m\"\u001b[39m\u001b[38;5;130;01m\\n\u001b[39;00m\u001b[38;5;124m\"\u001b[39m\u001b[38;5;241m.\u001b[39mjoin(remote_files)\n\u001b[1;32m--> 231\u001b[0m \u001b[38;5;28;43mself\u001b[39;49m\u001b[38;5;241;43m.\u001b[39;49m\u001b[43m_execute\u001b[49m\u001b[43m(\u001b[49m\n\u001b[0;32m    232\u001b[0m \u001b[43m    \u001b[49m\u001b[43mCommand\u001b[49m\u001b[38;5;241;43m.\u001b[39;49m\u001b[43mSEND_KEYS_TO_ELEMENT\u001b[49m\u001b[43m,\u001b[49m\u001b[43m \u001b[49m\u001b[43m{\u001b[49m\u001b[38;5;124;43m\"\u001b[39;49m\u001b[38;5;124;43mtext\u001b[39;49m\u001b[38;5;124;43m\"\u001b[39;49m\u001b[43m:\u001b[49m\u001b[43m \u001b[49m\u001b[38;5;124;43m\"\u001b[39;49m\u001b[38;5;124;43m\"\u001b[39;49m\u001b[38;5;241;43m.\u001b[39;49m\u001b[43mjoin\u001b[49m\u001b[43m(\u001b[49m\u001b[43mkeys_to_typing\u001b[49m\u001b[43m(\u001b[49m\u001b[43mvalue\u001b[49m\u001b[43m)\u001b[49m\u001b[43m)\u001b[49m\u001b[43m,\u001b[49m\u001b[43m \u001b[49m\u001b[38;5;124;43m\"\u001b[39;49m\u001b[38;5;124;43mvalue\u001b[39;49m\u001b[38;5;124;43m\"\u001b[39;49m\u001b[43m:\u001b[49m\u001b[43m \u001b[49m\u001b[43mkeys_to_typing\u001b[49m\u001b[43m(\u001b[49m\u001b[43mvalue\u001b[49m\u001b[43m)\u001b[49m\u001b[43m}\u001b[49m\n\u001b[0;32m    233\u001b[0m \u001b[43m\u001b[49m\u001b[43m)\u001b[49m\n",
      "File \u001b[1;32mc:\\Users\\jyunx\\anaconda3\\envs\\yun_v310\\lib\\site-packages\\selenium\\webdriver\\remote\\webelement.py:395\u001b[0m, in \u001b[0;36mWebElement._execute\u001b[1;34m(self, command, params)\u001b[0m\n\u001b[0;32m    393\u001b[0m     params \u001b[38;5;241m=\u001b[39m {}\n\u001b[0;32m    394\u001b[0m params[\u001b[38;5;124m\"\u001b[39m\u001b[38;5;124mid\u001b[39m\u001b[38;5;124m\"\u001b[39m] \u001b[38;5;241m=\u001b[39m \u001b[38;5;28mself\u001b[39m\u001b[38;5;241m.\u001b[39m_id\n\u001b[1;32m--> 395\u001b[0m \u001b[38;5;28;01mreturn\u001b[39;00m \u001b[38;5;28;43mself\u001b[39;49m\u001b[38;5;241;43m.\u001b[39;49m\u001b[43m_parent\u001b[49m\u001b[38;5;241;43m.\u001b[39;49m\u001b[43mexecute\u001b[49m\u001b[43m(\u001b[49m\u001b[43mcommand\u001b[49m\u001b[43m,\u001b[49m\u001b[43m \u001b[49m\u001b[43mparams\u001b[49m\u001b[43m)\u001b[49m\n",
      "File \u001b[1;32mc:\\Users\\jyunx\\anaconda3\\envs\\yun_v310\\lib\\site-packages\\selenium\\webdriver\\remote\\webdriver.py:347\u001b[0m, in \u001b[0;36mWebDriver.execute\u001b[1;34m(self, driver_command, params)\u001b[0m\n\u001b[0;32m    345\u001b[0m response \u001b[38;5;241m=\u001b[39m \u001b[38;5;28mself\u001b[39m\u001b[38;5;241m.\u001b[39mcommand_executor\u001b[38;5;241m.\u001b[39mexecute(driver_command, params)\n\u001b[0;32m    346\u001b[0m \u001b[38;5;28;01mif\u001b[39;00m response:\n\u001b[1;32m--> 347\u001b[0m     \u001b[38;5;28;43mself\u001b[39;49m\u001b[38;5;241;43m.\u001b[39;49m\u001b[43merror_handler\u001b[49m\u001b[38;5;241;43m.\u001b[39;49m\u001b[43mcheck_response\u001b[49m\u001b[43m(\u001b[49m\u001b[43mresponse\u001b[49m\u001b[43m)\u001b[49m\n\u001b[0;32m    348\u001b[0m     response[\u001b[38;5;124m\"\u001b[39m\u001b[38;5;124mvalue\u001b[39m\u001b[38;5;124m\"\u001b[39m] \u001b[38;5;241m=\u001b[39m \u001b[38;5;28mself\u001b[39m\u001b[38;5;241m.\u001b[39m_unwrap_value(response\u001b[38;5;241m.\u001b[39mget(\u001b[38;5;124m\"\u001b[39m\u001b[38;5;124mvalue\u001b[39m\u001b[38;5;124m\"\u001b[39m, \u001b[38;5;28;01mNone\u001b[39;00m))\n\u001b[0;32m    349\u001b[0m     \u001b[38;5;28;01mreturn\u001b[39;00m response\n",
      "File \u001b[1;32mc:\\Users\\jyunx\\anaconda3\\envs\\yun_v310\\lib\\site-packages\\selenium\\webdriver\\remote\\errorhandler.py:229\u001b[0m, in \u001b[0;36mErrorHandler.check_response\u001b[1;34m(self, response)\u001b[0m\n\u001b[0;32m    227\u001b[0m         alert_text \u001b[38;5;241m=\u001b[39m value[\u001b[38;5;124m\"\u001b[39m\u001b[38;5;124malert\u001b[39m\u001b[38;5;124m\"\u001b[39m]\u001b[38;5;241m.\u001b[39mget(\u001b[38;5;124m\"\u001b[39m\u001b[38;5;124mtext\u001b[39m\u001b[38;5;124m\"\u001b[39m)\n\u001b[0;32m    228\u001b[0m     \u001b[38;5;28;01mraise\u001b[39;00m exception_class(message, screen, stacktrace, alert_text)  \u001b[38;5;66;03m# type: ignore[call-arg]  # mypy is not smart enough here\u001b[39;00m\n\u001b[1;32m--> 229\u001b[0m \u001b[38;5;28;01mraise\u001b[39;00m exception_class(message, screen, stacktrace)\n",
      "\u001b[1;31mElementNotInteractableException\u001b[0m: Message: Element <div class=\"mk-map-node-element\"> is not reachable by keyboard\nStacktrace:\nRemoteError@chrome://remote/content/shared/RemoteError.sys.mjs:8:8\nWebDriverError@chrome://remote/content/shared/webdriver/Errors.sys.mjs:191:5\nElementNotInteractableError@chrome://remote/content/shared/webdriver/Errors.sys.mjs:351:5\nwebdriverSendKeysToElement@chrome://remote/content/marionette/interaction.sys.mjs:668:13\ninteraction.sendKeysToElement@chrome://remote/content/marionette/interaction.sys.mjs:642:11\nsendKeysToElement@chrome://remote/content/marionette/actors/MarionetteCommandsChild.sys.mjs:535:29\nreceiveMessage@chrome://remote/content/marionette/actors/MarionetteCommandsChild.sys.mjs:150:31\n"
     ]
    }
   ],
   "source": [
    "if __name__ == \"__main__\":\n",
    "    # 드라이버 생성 및 웹 로딩\n",
    "    driver = webdriver.Firefox()\n",
    "    url = 'https://www.oshimaland.co.jp/'\n",
    "    loadWeb(driver, url)\n",
    "\n",
    "    # 지도를 60% 정도로 축소 뒤 수집 \n",
    "    search_fire_coordinate(driver)\n",
    "    \n",
    "\n",
    "# driver.quit()"
   ]
  }
 ],
 "metadata": {
  "kernelspec": {
   "display_name": "yun_v310",
   "language": "python",
   "name": "python3"
  },
  "language_info": {
   "codemirror_mode": {
    "name": "ipython",
    "version": 3
   },
   "file_extension": ".py",
   "mimetype": "text/x-python",
   "name": "python",
   "nbconvert_exporter": "python",
   "pygments_lexer": "ipython3",
   "version": "3.10.13"
  }
 },
 "nbformat": 4,
 "nbformat_minor": 4
}
